{
 "cells": [
  {
   "cell_type": "code",
   "execution_count": null,
   "metadata": {
    "vscode": {
     "languageId": "plaintext"
    }
   },
   "outputs": [],
   "source": [
    "cd /home/labhhc4/Documents/Workspace/TuyetMinh/ProQSAR\n",
    "PYTHONPATH=. python -m ProQSAR --data_dev Data/hiv.csv --data_pred Data/hiv_pred.csv --activity_col 'pChEMBL Value' --id_col 'ID' --smiles_col 'Smiles' --project_name ProjectTestCMD --n_jobs 50 --alpha 0.1 --featurizer '{\"feature_types\": [\"ECFP4\",\"RDK5\",\"mordred\"]}' --model_dev '{\"add_model\": {\"CustomModel\": (\"sklearn.svm.SVR\", {\"C\": (0.1, 10.0), \"kernel\": (\"linear\",\"poly\",\"rbf\")})}, \"compare\": true}' --optimizer '{\"n_trials\": 100, \"add_model\": {\"CustomModel\": (\"sklearn.svm.SVR\", {\"C\": (0.1, 10.0), \"kernel\": (\"linear\",\"poly\",\"rbf)})}}'"
   ]
  },
  {
   "cell_type": "markdown",
   "metadata": {},
   "source": [
    "# chay duoc"
   ]
  },
  {
   "cell_type": "code",
   "execution_count": null,
   "metadata": {
    "vscode": {
     "languageId": "plaintext"
    }
   },
   "outputs": [],
   "source": [
    "cd /home/labhhc4/Documents/Workspace/TuyetMinh/ProQSAR\n",
    "PYTHONPATH=. python -m ProQSAR --data_dev Data/hiv.csv --activity_col 'pChEMBL Value' --id_col 'ID' --smiles_col 'Smiles' --project_name ProjectTestCMD4 --n_jobs 10 --alpha 0.1 0.2 --featurizer feature_types='[\"RDK5\",\"avalon\"]' --model_dev compare=True --optimizer n_trials=5"
   ]
  },
  {
   "cell_type": "code",
   "execution_count": null,
   "metadata": {
    "vscode": {
     "languageId": "plaintext"
    }
   },
   "outputs": [],
   "source": [
    "cd /home/labhhc4/Documents/Workspace/TuyetMinh/ProQSAR\n",
    "PYTHONPATH=. python -m ProQSAR --model_path ProjectTestCMD4/autoqsar.pkl --data_pred Data/hiv_500_non_activity.csv --alpha 0.1 0.2"
   ]
  },
  {
   "cell_type": "markdown",
   "metadata": {},
   "source": [
    "********************"
   ]
  },
  {
   "cell_type": "code",
   "execution_count": null,
   "metadata": {
    "vscode": {
     "languageId": "plaintext"
    }
   },
   "outputs": [],
   "source": [
    "python -m autoqsar \\\n",
    "  --data_dev   Data/hiv.csv \\\n",
    "  --data_pred  Data/hiv_pred.csv \\\n",
    "  --activity_col \"pChEMBL Value\" \\\n",
    "  --id_col       \"Molecule ChEMBL ID\" \\\n",
    "  --smiles_col  Smiles \\\n",
    "  --project_name ProjectTestHIV4 \\\n",
    "  --n_jobs       1 \\\n",
    "  --n_splits     5 \\\n",
    "  --n_repeats    5 \\\n",
    "  --alpha        0.1 0.2 \\\n",
    "  \\\n",
    "  --featurizer '{\"feature_types\": [\"ECFP2\",\"ECFP4\",\"ECFP6\",\"FCFP2\",\"FCFP4\",\"FCFP6\",\"RDK5\",\"RDK6\",\"RDK7\",\"MACCS\",\"avalon\",\"rdkdes\",\"pubchem\",\"mordred\"]}' \\\n",
    "  \\\n",
    "  --model_dev   '{\"add_model\": {\"CustomModel\": [\"sklearn.svm.SVR\", {\"C\": [0.1, 10.0], \"kernel\": [\"linear\",\"poly\",\"rbf\"]}]}, \"compare\": true}' \\\n",
    "  \\\n",
    "  --optimizer   '{\"n_trials\": 100, \"add_model\": {\"CustomModel\": [\"sklearn.svm.SVR\", {\"C\": [0.1, 10.0], \"kernel\": [\"linear\",\"poly\",\"rbf\"]}]}}'\n"
   ]
  },
  {
   "cell_type": "code",
   "execution_count": null,
   "metadata": {
    "vscode": {
     "languageId": "plaintext"
    }
   },
   "outputs": [],
   "source": [
    "Data/freesolv.csv"
   ]
  },
  {
   "cell_type": "code",
   "execution_count": null,
   "metadata": {
    "vscode": {
     "languageId": "plaintext"
    }
   },
   "outputs": [],
   "source": [
    "cd /home/labhhc4/Documents/Workspace/TuyetMinh/ProQSAR\n",
    "PYTHONPATH=. python -m ProQSAR --data_dev Data/freesolv.csv --activity_col 'y' --id_col 'smiles' --smiles_col 'smiles' --project_name freesolv --n_jobs 4 --alpha 0.1 0.2 --model_dev compare=True --optimizer n_trials=50 --featurizer feature_types='all'"
   ]
  },
  {
   "cell_type": "code",
   "execution_count": null,
   "metadata": {
    "vscode": {
     "languageId": "plaintext"
    }
   },
   "outputs": [],
   "source": [
    "['ECFP2','ECFP4','ECFP6','FCFP2','FCFP4','FCFP6','RDK5','RDK6','RDK7','MACCS','avalon','rdkdes','pubchem','mordred']"
   ]
  }
 ],
 "metadata": {
  "kernelspec": {
   "display_name": "proqsar",
   "language": "python",
   "name": "python3"
  },
  "language_info": {
   "codemirror_mode": {
    "name": "ipython",
    "version": 3
   },
   "file_extension": ".py",
   "mimetype": "text/x-python",
   "name": "python",
   "nbconvert_exporter": "python",
   "pygments_lexer": "ipython3",
   "version": "3.11.11"
  }
 },
 "nbformat": 4,
 "nbformat_minor": 2
}
